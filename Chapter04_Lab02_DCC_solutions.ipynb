{
 "cells": [
  {
   "cell_type": "markdown",
   "metadata": {
    "application/vnd.databricks.v1+cell": {
     "cellMetadata": {},
     "inputWidgets": {},
     "nuid": "2e0329f3-cf0b-4abf-beb0-82fac4805fe1",
     "showTitle": false,
     "title": ""
    },
    "id": "mxW1a6vXzAA7"
   },
   "source": [
    "# Lab: Basic Spark Operations and Transformation"
   ]
  },
  {
   "cell_type": "markdown",
   "metadata": {
    "application/vnd.databricks.v1+cell": {
     "cellMetadata": {},
     "inputWidgets": {},
     "nuid": "062a3b44-26c9-47bf-bbeb-01a527399f50",
     "showTitle": false,
     "title": ""
    },
    "id": "vErK3rYou1Lq"
   },
   "source": [
    "Create SparkSession variable"
   ]
  },
  {
   "cell_type": "code",
   "execution_count": null,
   "metadata": {
    "application/vnd.databricks.v1+cell": {
     "cellMetadata": {},
     "inputWidgets": {},
     "nuid": "52a93dff-94ca-4828-bee2-c1039b190ce1",
     "showTitle": false,
     "title": ""
    },
    "id": "zFLvBLRAu1Lr",
    "outputId": "b14b7b5b-9db0-46d7-9117-23ae5e14b0f5"
   },
   "outputs": [
    {
     "data": {
      "text/html": [
       "\n",
       "            <div>\n",
       "                <p><b>SparkSession - hive</b></p>\n",
       "                \n",
       "        <div>\n",
       "            <p><b>SparkContext</b></p>\n",
       "\n",
       "            <p><a href=\"/?o=7420859732855345#setting/sparkui/0309-095813-9eqk47wc/driver-2020672215839095617\">Spark UI</a></p>\n",
       "\n",
       "            <dl>\n",
       "              <dt>Version</dt>\n",
       "                <dd><code>v3.2.1</code></dd>\n",
       "              <dt>Master</dt>\n",
       "                <dd><code>local[8]</code></dd>\n",
       "              <dt>AppName</dt>\n",
       "                <dd><code>Databricks Shell</code></dd>\n",
       "            </dl>\n",
       "        </div>\n",
       "        \n",
       "            </div>\n",
       "        "
      ]
     },
     "metadata": {
      "application/vnd.databricks.v1+output": {
       "addedWidgets": {},
       "arguments": {},
       "data": "\n            <div>\n                <p><b>SparkSession - hive</b></p>\n                \n        <div>\n            <p><b>SparkContext</b></p>\n\n            <p><a href=\"/?o=7420859732855345#setting/sparkui/0309-095813-9eqk47wc/driver-2020672215839095617\">Spark UI</a></p>\n\n            <dl>\n              <dt>Version</dt>\n                <dd><code>v3.2.1</code></dd>\n              <dt>Master</dt>\n                <dd><code>local[8]</code></dd>\n              <dt>AppName</dt>\n                <dd><code>Databricks Shell</code></dd>\n            </dl>\n        </div>\n        \n            </div>\n        ",
       "datasetInfos": [],
       "metadata": {},
       "removedWidgets": [],
       "textData": null,
       "type": "htmlSandbox"
      }
     },
     "output_type": "display_data"
    }
   ],
   "source": [
    "from pyspark.sql import SparkSession\n",
    "\n",
    "spark = SparkSession.builder \\\n",
    ".appName('spark_training') \\\n",
    ".getOrCreate()\n",
    "\n",
    "spark.sparkContext.setLogLevel(\"ERROR\")\n",
    "\n",
    "spark"
   ]
  },
  {
   "cell_type": "markdown",
   "metadata": {
    "application/vnd.databricks.v1+cell": {
     "cellMetadata": {},
     "inputWidgets": {},
     "nuid": "2f594f2b-93f4-41cb-a1c7-56fd743e4ef5",
     "showTitle": false,
     "title": ""
    },
    "id": "i43OVM2qu1Lu",
    "tags": []
   },
   "source": [
    "# Loading data into a Spark environment\n",
    "\n",
    "We are going to use multiple files in this exercise.\n",
    "- `northwind_order_details.csv`\n",
    "- `northwind_orders.csv`\n",
    "- `northwind_products.csv`\n",
    "- `northwind_categories.csv`\n",
    "\n",
    "Load these files and take a look at the structure."
   ]
  },
  {
   "cell_type": "code",
   "execution_count": null,
   "metadata": {
    "application/vnd.databricks.v1+cell": {
     "cellMetadata": {},
     "inputWidgets": {},
     "nuid": "81f5f43c-c236-4991-986e-753a15af114f",
     "showTitle": false,
     "title": ""
    },
    "id": "I20B6WYBzAA-"
   },
   "outputs": [],
   "source": [
    "import os\n",
    "\n",
    "if \"DATABRICKS_RUNTIME_VERSION\" in os.environ:\n",
    "    DATA_FOLDER = 's3://bah-data'\n",
    "else: \n",
    "    DATA_FOLDER = '../data'"
   ]
  },
  {
   "cell_type": "code",
   "execution_count": null,
   "metadata": {
    "application/vnd.databricks.v1+cell": {
     "cellMetadata": {},
     "inputWidgets": {},
     "nuid": "b7827c3c-c4c9-419a-9726-6fe906dcdce2",
     "showTitle": false,
     "title": ""
    },
    "id": "ZKPY82hAu1Lu",
    "outputId": "27936f43-06d9-4dab-9696-e7bcda27f526"
   },
   "outputs": [
    {
     "name": "stdout",
     "output_type": "stream",
     "text": [
      "+-------+---------+---------+--------+--------+\n",
      "|orderID|productID|unitPrice|quantity|discount|\n",
      "+-------+---------+---------+--------+--------+\n",
      "|  10248|       11|     14.0|      12|     0.0|\n",
      "|  10248|       42|      9.8|      10|     0.0|\n",
      "+-------+---------+---------+--------+--------+\n",
      "only showing top 2 rows\n",
      "\n",
      "+-------+----------+----------+-------------------+-------------------+--------------------+-------+-------+--------------------+------------------+--------+----------+--------------+-----------+\n",
      "|orderID|customerID|employeeID|          orderDate|       requiredDate|         shippedDate|shipVia|freight|            shipName|       shipAddress|shipCity|shipRegion|shipPostalCode|shipCountry|\n",
      "+-------+----------+----------+-------------------+-------------------+--------------------+-------+-------+--------------------+------------------+--------+----------+--------------+-----------+\n",
      "|  10248|     VINET|         5|1996-07-04 00:00:00|1996-08-01 00:00:00|1996-07-16 00:00:...|      3|  32.38|Vins et alcools C...|59 rue de l'Abbaye|   Reims|      NULL|         51100|     France|\n",
      "|  10249|     TOMSP|         6|1996-07-05 00:00:00|1996-08-16 00:00:00|1996-07-10 00:00:...|      1|  11.61|  Toms Spezialitäten|     Luisenstr. 48| Münster|      NULL|         44087|    Germany|\n",
      "+-------+----------+----------+-------------------+-------------------+--------------------+-------+-------+--------------------+------------------+--------+----------+--------------+-----------+\n",
      "only showing top 2 rows\n",
      "\n",
      "+---------+-----------+----------+----------+------------------+---------+------------+------------+------------+------------+\n",
      "|productID|productName|supplierID|categoryID|   quantityPerUnit|unitPrice|unitsInStock|unitsOnOrder|reorderLevel|discontinued|\n",
      "+---------+-----------+----------+----------+------------------+---------+------------+------------+------------+------------+\n",
      "|        1|       Chai|         1|         1|10 boxes x 20 bags|     18.0|          39|           0|          10|           0|\n",
      "|        2|      Chang|         1|         1|24 - 12 oz bottles|     19.0|          17|          40|          25|           0|\n",
      "+---------+-----------+----------+----------+------------------+---------+------------+------------+------------+------------+\n",
      "only showing top 2 rows\n",
      "\n",
      "+----------+------------+--------------------+--------------------+\n",
      "|categoryID|categoryName|         description|             picture|\n",
      "+----------+------------+--------------------+--------------------+\n",
      "|         1|   Beverages|Soft drinks coffe...|0x151C2F000200000...|\n",
      "|         2|  Condiments|Sweet and savory ...|0x151C2F000200000...|\n",
      "+----------+------------+--------------------+--------------------+\n",
      "only showing top 2 rows\n",
      "\n"
     ]
    }
   ],
   "source": [
    "# Set your data directory to the base folder of your lab files\n",
    "\n",
    "\n",
    "ord_detail = spark.read.option('header', 'true').option('inferSchema', 'true').csv(f'{DATA_FOLDER}/northwind_order_details.csv')\n",
    "orders = spark.read.option('header', 'true').option('inferSchema', 'true').csv(f'{DATA_FOLDER}/northwind_orders.csv')\n",
    "prod = spark.read.option('header', 'true').option('inferSchema', 'true').csv(f'{DATA_FOLDER}/northwind_products.csv')\n",
    "cat =  spark.read.option('header', 'true').option('inferSchema', 'true').csv(f'{DATA_FOLDER}/northwind_categories.csv')\n",
    "\n",
    "ord_detail.show(2)\n",
    "orders.show(2)\n",
    "prod.show(2)\n",
    "cat.show(2)"
   ]
  },
  {
   "cell_type": "markdown",
   "metadata": {
    "application/vnd.databricks.v1+cell": {
     "cellMetadata": {},
     "inputWidgets": {},
     "nuid": "7841a702-f615-4c7b-9b17-34e7be5d5105",
     "showTitle": false,
     "title": ""
    },
    "id": "-yGAQ8Q3zAA_"
   },
   "source": [
    "Customers have largest average freight in their orders? Make sure that your report has understandable names."
   ]
  },
  {
   "cell_type": "code",
   "execution_count": null,
   "metadata": {
    "application/vnd.databricks.v1+cell": {
     "cellMetadata": {},
     "inputWidgets": {},
     "nuid": "174c658b-4beb-4cae-99bc-eb56d58d21e2",
     "showTitle": false,
     "title": ""
    },
    "id": "UZhut8UxzAA_",
    "outputId": "7104ec68-9d49-410c-cd6d-a2f75764fa53"
   },
   "outputs": [
    {
     "name": "stdout",
     "output_type": "stream",
     "text": [
      "+----------+------------------------------------+\n",
      "|customerID|Average freight per customer's order|\n",
      "+----------+------------------------------------+\n",
      "|     SAVEA|                  215.60322580645163|\n",
      "|     ERNSH|                  206.84633333333335|\n",
      "|     QUICK|                  200.20107142857142|\n",
      "|     QUEEN|                   152.5153846153846|\n",
      "|     HUNGO|                  145.01263157894738|\n",
      "+----------+------------------------------------+\n",
      "only showing top 5 rows\n",
      "\n"
     ]
    }
   ],
   "source": [
    "orders \\\n",
    ".groupBy('customerID') \\\n",
    ".mean('freight') \\\n",
    ".orderBy('avg(freight)', ascending=False) \\\n",
    ".withColumnRenamed('avg(freight)', 'Average freight per customer\\'s order') \\\n",
    ".show(5)"
   ]
  },
  {
   "cell_type": "markdown",
   "metadata": {
    "application/vnd.databricks.v1+cell": {
     "cellMetadata": {},
     "inputWidgets": {},
     "nuid": "ed38fe30-725e-4842-9478-ae00438229a0",
     "showTitle": false,
     "title": ""
    },
    "id": "nItbBIFHzABA"
   },
   "source": [
    "Similarily, the management is interested in which employee have handled most order. Create a DF displaying this information."
   ]
  },
  {
   "cell_type": "code",
   "execution_count": null,
   "metadata": {
    "application/vnd.databricks.v1+cell": {
     "cellMetadata": {},
     "inputWidgets": {},
     "nuid": "917906c1-943d-4315-8071-20ed57ab6d3e",
     "showTitle": false,
     "title": ""
    },
    "id": "cM-omr1szABA",
    "outputId": "31f0b09e-9f56-4474-8de6-49e47a3a3038"
   },
   "outputs": [
    {
     "name": "stdout",
     "output_type": "stream",
     "text": [
      "+----------+--------------+\n",
      "|employeeID|Orders handled|\n",
      "+----------+--------------+\n",
      "|         4|           156|\n",
      "|         3|           127|\n",
      "|         1|           123|\n",
      "|         8|           104|\n",
      "|         2|            96|\n",
      "+----------+--------------+\n",
      "only showing top 5 rows\n",
      "\n"
     ]
    }
   ],
   "source": [
    "orders \\\n",
    ".groupBy('employeeID') \\\n",
    ".count() \\\n",
    ".orderBy('count', ascending=False) \\\n",
    ".withColumnRenamed('count', 'Orders handled') \\\n",
    ".show(5)"
   ]
  },
  {
   "cell_type": "markdown",
   "metadata": {
    "application/vnd.databricks.v1+cell": {
     "cellMetadata": {},
     "inputWidgets": {},
     "nuid": "9669533c-db6f-4388-a582-9d11da4dfea6",
     "showTitle": false,
     "title": ""
    },
    "id": "IqjxWpCtzABA"
   },
   "source": [
    "Which employee had smallest number of orders?"
   ]
  },
  {
   "cell_type": "code",
   "execution_count": null,
   "metadata": {
    "application/vnd.databricks.v1+cell": {
     "cellMetadata": {},
     "inputWidgets": {},
     "nuid": "13b4029f-180b-4d09-b8db-475ca10d99b3",
     "showTitle": false,
     "title": ""
    },
    "id": "IY3-EXhAzABA",
    "outputId": "57dfe7dc-4383-4997-cba5-5e5d24a4a0a9"
   },
   "outputs": [
    {
     "name": "stdout",
     "output_type": "stream",
     "text": [
      "+----------+--------------+\n",
      "|employeeID|Orders handled|\n",
      "+----------+--------------+\n",
      "|         5|            42|\n",
      "|         9|            43|\n",
      "|         6|            67|\n",
      "|         7|            72|\n",
      "|         2|            96|\n",
      "+----------+--------------+\n",
      "only showing top 5 rows\n",
      "\n"
     ]
    }
   ],
   "source": [
    "orders \\\n",
    ".groupBy('employeeID') \\\n",
    ".count() \\\n",
    ".orderBy('count', ascending=True) \\\n",
    ".withColumnRenamed('count', 'Orders handled') \\\n",
    ".show(5)"
   ]
  },
  {
   "cell_type": "markdown",
   "metadata": {
    "application/vnd.databricks.v1+cell": {
     "cellMetadata": {},
     "inputWidgets": {},
     "nuid": "59eb6d2a-1d76-4b09-aff6-287d7a457997",
     "showTitle": false,
     "title": ""
    },
    "id": "ZIf3D41wzABA"
   },
   "source": [
    "Is this good metric to access employee performance ? Some orders are more valuable than others. Calculate total amount employee's orders brought to the company.\n",
    "\n",
    "Note: Don't forget discounts."
   ]
  },
  {
   "cell_type": "code",
   "execution_count": null,
   "metadata": {
    "application/vnd.databricks.v1+cell": {
     "cellMetadata": {},
     "inputWidgets": {},
     "nuid": "d0e189b0-c4dc-4829-b7da-1c7778d3aaef",
     "showTitle": false,
     "title": ""
    },
    "id": "jKaEHADkzABA",
    "outputId": "7dfa34e5-e44d-4263-ac84-cc94d7fedc5e"
   },
   "outputs": [
    {
     "name": "stdout",
     "output_type": "stream",
     "text": [
      "+----------+-------------------+\n",
      "|employeeID|Total order revenue|\n",
      "+----------+-------------------+\n",
      "|         5|         68792.2825|\n",
      "|         6|         73913.1295|\n",
      "|         9|  77308.06650000002|\n",
      "|         7| 124568.23500000002|\n",
      "|         8| 126862.27749999995|\n",
      "|         2|         166537.755|\n",
      "|         1| 192107.60450000007|\n",
      "|         3| 202812.84299999996|\n",
      "|         4| 232890.84600000005|\n",
      "+----------+-------------------+\n",
      "\n"
     ]
    }
   ],
   "source": [
    "import pyspark.sql.functions as s_f\n",
    "\n",
    "order_revenue_expr = s_f.col('unitPrice') * s_f.col('quantity') * (s_f.lit(1) - s_f.col('discount'))\n",
    "order_revenue_expr = s_f.round(order_revenue_expr, 4)\n",
    "\n",
    "orders.select('orderID', 'employeeID') \\\n",
    ".join(ord_detail, 'orderID',  'inner') \\\n",
    ".withColumn('order_revenue', order_revenue_expr) \\\n",
    ".groupBy('employeeID') \\\n",
    ".sum('order_revenue') \\\n",
    ".orderBy('sum(order_revenue)', ascending=True) \\\n",
    ".withColumnRenamed('sum(order_revenue)', 'Total order revenue') \\\n",
    ".show()\n"
   ]
  },
  {
   "cell_type": "markdown",
   "metadata": {
    "application/vnd.databricks.v1+cell": {
     "cellMetadata": {},
     "inputWidgets": {},
     "nuid": "cc102b82-4b0c-476b-83de-180421d344a3",
     "showTitle": false,
     "title": ""
    },
    "id": "c9LwlH19zABB"
   },
   "source": [
    "Using similar approach, help regional managers understand which countries bring the most revenue to the company."
   ]
  },
  {
   "cell_type": "code",
   "execution_count": null,
   "metadata": {
    "application/vnd.databricks.v1+cell": {
     "cellMetadata": {},
     "inputWidgets": {},
     "nuid": "d822ebf8-9898-4cba-a30f-1215a221282b",
     "showTitle": false,
     "title": ""
    },
    "id": "xGZmzKBRzABB",
    "outputId": "628d0550-e69a-44c1-f317-6cde1fa772a8"
   },
   "outputs": [
    {
     "name": "stdout",
     "output_type": "stream",
     "text": [
      "+-----------+-------------------+\n",
      "|shipCountry|Total order revenue|\n",
      "+-----------+-------------------+\n",
      "|        USA| 245584.61050000007|\n",
      "|    Germany|        230284.6335|\n",
      "|    Austria| 128003.83850000001|\n",
      "|     Brazil| 106925.77650000002|\n",
      "|     France|  81358.32249999998|\n",
      "+-----------+-------------------+\n",
      "only showing top 5 rows\n",
      "\n"
     ]
    }
   ],
   "source": [
    "orders.select('orderID', 'shipCountry') \\\n",
    ".join(ord_detail, 'orderID',  'inner') \\\n",
    ".withColumn('order_revenue', order_revenue_expr) \\\n",
    ".groupBy('shipCountry') \\\n",
    ".sum('order_revenue') \\\n",
    ".orderBy('sum(order_revenue)', ascending=False) \\\n",
    ".withColumnRenamed('sum(order_revenue)', 'Total order revenue') \\\n",
    ".show(5)"
   ]
  },
  {
   "cell_type": "markdown",
   "metadata": {
    "application/vnd.databricks.v1+cell": {
     "cellMetadata": {},
     "inputWidgets": {},
     "nuid": "04e2adb0-c029-4ab6-914d-f44614dc7049",
     "showTitle": false,
     "title": ""
    },
    "id": "4lKdbNvqzABB"
   },
   "source": [
    "Another line of inquiry is about warehouse efficiency - how soon we ship orders to clients. Calculate the statistics (avg, stdev, min, max) on days between order creation and shipping date.\n",
    "\n",
    "Note: Make sure your date columns are properly formatted.\n",
    "Hint: `pyspark.sql.functions.datediff()` might be useful here"
   ]
  },
  {
   "cell_type": "code",
   "execution_count": null,
   "metadata": {
    "application/vnd.databricks.v1+cell": {
     "cellMetadata": {},
     "inputWidgets": {},
     "nuid": "ab3b57c6-ca0b-4a3e-80fe-1dafd3407031",
     "showTitle": false,
     "title": ""
    },
    "id": "JlcX5Nr_zABB"
   },
   "outputs": [],
   "source": [
    "orders = orders \\\n",
    ".withColumn('orderDate', s_f.to_date(s_f.col('orderDate'), 'yyyy-MM-dd HH:mm:ss.000')) \\\n",
    ".withColumn('shippedDate', s_f.to_date(s_f.col('shippedDate'), 'yyyy-MM-dd HH:mm:ss.000'))"
   ]
  },
  {
   "cell_type": "code",
   "execution_count": null,
   "metadata": {
    "application/vnd.databricks.v1+cell": {
     "cellMetadata": {},
     "inputWidgets": {},
     "nuid": "a9f05969-e612-4443-ba58-1fc22e96769a",
     "showTitle": false,
     "title": ""
    },
    "id": "poaAwLcXzABB",
    "outputId": "ca9eec06-b8d5-46e4-c97d-3d6294261a16"
   },
   "outputs": [
    {
     "name": "stdout",
     "output_type": "stream",
     "text": [
      "+-------+------------------+\n",
      "|summary|   warehouse_delay|\n",
      "+-------+------------------+\n",
      "|  count|               809|\n",
      "|   mean| 8.491965389369591|\n",
      "| stddev|6.8386820004845355|\n",
      "|    min|                 1|\n",
      "|    max|                37|\n",
      "+-------+------------------+\n",
      "\n"
     ]
    }
   ],
   "source": [
    "orders \\\n",
    ".withColumn('warehouse_delay', s_f.datediff('shippedDate', 'orderDate')) \\\n",
    ".select('warehouse_delay').describe().show()"
   ]
  },
  {
   "cell_type": "markdown",
   "metadata": {
    "application/vnd.databricks.v1+cell": {
     "cellMetadata": {},
     "inputWidgets": {},
     "nuid": "09fd699a-27fc-4870-a97b-0bf50878f69a",
     "showTitle": false,
     "title": ""
    },
    "id": "StCEgUtHzABB"
   },
   "source": [
    "Another department in the company is interested to understand how our company's products are split across categories.\n",
    "\n",
    "Using the information in the `products` and `categories` find out which categories hold the highest percentage of our warehouse value."
   ]
  },
  {
   "cell_type": "code",
   "execution_count": null,
   "metadata": {
    "application/vnd.databricks.v1+cell": {
     "cellMetadata": {},
     "inputWidgets": {},
     "nuid": "c55656ee-89e3-49d0-883f-f121f9e45ce3",
     "showTitle": false,
     "title": ""
    },
    "id": "wtzcNnD2zABB",
    "outputId": "54bf77df-1cf3-46bd-e743-5889bcebb7e6"
   },
   "outputs": [
    {
     "name": "stdout",
     "output_type": "stream",
     "text": [
      "+--------------+------------------+\n",
      "|  categoryName|        sum(value)|\n",
      "+--------------+------------------+\n",
      "|       Seafood|          13010.35|\n",
      "|     Beverages|          12480.25|\n",
      "|    Condiments|          12023.55|\n",
      "|Dairy Products|           11271.2|\n",
      "|   Confections|10392.199999999999|\n",
      "|  Meat/Poultry|           5729.45|\n",
      "|Grains/Cereals|            5594.5|\n",
      "|       Produce|3549.3500000000004|\n",
      "+--------------+------------------+\n",
      "\n"
     ]
    }
   ],
   "source": [
    "prod.select('categoryID', (s_f.col('unitPrice') * s_f.col('unitsInStock')).alias('value')) \\\n",
    ".join(cat, 'categoryID', 'inner') \\\n",
    ".select('categoryName', 'value') \\\n",
    ".groupBy('categoryName').sum('value') \\\n",
    ".orderBy('sum(value)', ascending=False) \\\n",
    ".show()"
   ]
  },
  {
   "cell_type": "markdown",
   "metadata": {
    "application/vnd.databricks.v1+cell": {
     "cellMetadata": {},
     "inputWidgets": {},
     "nuid": "c61f4276-ccb0-412b-a314-de4b4fc5a2a7",
     "showTitle": false,
     "title": ""
    },
    "id": "-Cef7MgSzABB"
   },
   "source": [
    "What is the most profitable product?"
   ]
  },
  {
   "cell_type": "code",
   "execution_count": null,
   "metadata": {
    "application/vnd.databricks.v1+cell": {
     "cellMetadata": {},
     "inputWidgets": {},
     "nuid": "009664b6-b1fa-4098-95fd-4b1be562612c",
     "showTitle": false,
     "title": ""
    },
    "id": "qzssBxs1zABB",
    "outputId": "26c8544a-dbb7-4be5-97bf-45733549edc7"
   },
   "outputs": [
    {
     "name": "stdout",
     "output_type": "stream",
     "text": [
      "+---------+-------------------------------+---------------------+\n",
      "|productID|productName                    |Total product revenue|\n",
      "+---------+-------------------------------+---------------------+\n",
      "|38       |Côte de Blaye                  |141396.735           |\n",
      "|29       |Thüringer Rostbratwurst        |80368.67199999999    |\n",
      "|59       |Raclette Courdavault           |71155.7              |\n",
      "|62       |Tarte au sucre                 |47234.97             |\n",
      "|60       |Camembert Pierrot              |46825.48             |\n",
      "|56       |Gnocchi di nonna Alice         |42593.06             |\n",
      "|51       |Manjimup Dried Apples          |41819.65             |\n",
      "|17       |Alice Mutton                   |32698.379999999997   |\n",
      "|18       |Carnarvon Tigers               |29171.875            |\n",
      "|28       |Rössle Sauerkraut              |25696.640000000007   |\n",
      "|72       |Mozzarella di Giovanni         |24900.13             |\n",
      "|43       |Ipoh Coffee                    |23526.699999999997   |\n",
      "|20       |Sir Rodney's Marmalade         |22563.359999999997   |\n",
      "|7        |Uncle Bob's Organic Dried Pears|22044.3              |\n",
      "|64       |Wimmers gute Semmelknödel      |21957.967500000002   |\n",
      "|69       |Gudbrandsdalsost               |21942.36             |\n",
      "|10       |Ikura                          |20867.340000000004   |\n",
      "|53       |Perth Pasties                  |20574.170000000006   |\n",
      "|26       |Gumbär Gummibärchen            |19849.144500000002   |\n",
      "|71       |Flotemysost                    |19551.024999999998   |\n",
      "+---------+-------------------------------+---------------------+\n",
      "only showing top 20 rows\n",
      "\n"
     ]
    }
   ],
   "source": [
    "ord_detail.select('orderID', 'productID', order_revenue_expr.alias('order_revenue')) \\\n",
    ".join(prod.select('productID', 'productName'), 'productID') \\\n",
    ".groupBy(['productID', 'productName']).sum('order_revenue') \\\n",
    ".withColumnRenamed('sum(order_revenue)', 'Total product revenue') \\\n",
    ".orderBy('Total product revenue', ascending=False) \\\n",
    ".show(truncate=False)"
   ]
  },
  {
   "cell_type": "markdown",
   "metadata": {
    "application/vnd.databricks.v1+cell": {
     "cellMetadata": {},
     "inputWidgets": {},
     "nuid": "1a948382-cf48-48ea-8e1c-83f656acf608",
     "showTitle": false,
     "title": ""
    },
    "id": "oBgqwlrKzABB"
   },
   "source": [
    "Finally, find most profitable categories from orders."
   ]
  },
  {
   "cell_type": "code",
   "execution_count": null,
   "metadata": {
    "application/vnd.databricks.v1+cell": {
     "cellMetadata": {},
     "inputWidgets": {},
     "nuid": "775e2df4-c6b4-497e-8030-d408f99449a5",
     "showTitle": false,
     "title": ""
    },
    "id": "acz908YJzABC",
    "outputId": "a18a7917-e98d-42e7-dd0e-676f317e57b8"
   },
   "outputs": [
    {
     "name": "stdout",
     "output_type": "stream",
     "text": [
      "+----------+--------------+----------------------+\n",
      "|categoryID|  categoryName|Total category revenue|\n",
      "+----------+--------------+----------------------+\n",
      "|         1|     Beverages|    267868.17999999993|\n",
      "|         4|Dairy Products|            234507.285|\n",
      "|         3|   Confections|    167357.22499999995|\n",
      "|         6|  Meat/Poultry|           163022.3595|\n",
      "|         8|       Seafood|    131261.73750000002|\n",
      "|         2|    Condiments|    106047.08500000002|\n",
      "|         7|       Produce|     99984.57999999999|\n",
      "|         5|Grains/Cereals|     95744.58750000001|\n",
      "+----------+--------------+----------------------+\n",
      "\n"
     ]
    }
   ],
   "source": [
    "ord_detail.select('orderID', 'productID', order_revenue_expr.alias('order_revenue')) \\\n",
    ".join(prod.select('productID', 'productName', 'categoryID'), 'productID') \\\n",
    ".join(cat.select('categoryID', 'categoryName'), 'categoryID', 'inner') \\\n",
    ".groupBy(['categoryID', 'categoryName']).sum('order_revenue') \\\n",
    ".withColumnRenamed('sum(order_revenue)', 'Total category revenue') \\\n",
    ".orderBy('Total category revenue', ascending=False) \\\n",
    ".show()"
   ]
  },
  {
   "cell_type": "code",
   "execution_count": null,
   "metadata": {
    "application/vnd.databricks.v1+cell": {
     "cellMetadata": {},
     "inputWidgets": {},
     "nuid": "ab513926-0077-4093-91a7-af1393ce2472",
     "showTitle": false,
     "title": ""
    },
    "id": "gPaIuWjOzABC"
   },
   "outputs": [],
   "source": []
  }
 ],
 "metadata": {
  "application/vnd.databricks.v1+notebook": {
   "dashboards": [],
   "language": "python",
   "notebookMetadata": {
    "pythonIndentUnit": 4
   },
   "notebookName": "Spark_Lab_03_GroupBy_Merge_solutions",
   "notebookOrigID": 3891336596489399,
   "widgets": {}
  },
  "colab": {
   "provenance": []
  },
  "kernelspec": {
   "display_name": "Python 3",
   "language": "python",
   "name": "python3"
  },
  "language_info": {
   "codemirror_mode": {
    "name": "ipython",
    "version": 3
   },
   "file_extension": ".py",
   "mimetype": "text/x-python",
   "name": "python",
   "nbconvert_exporter": "python",
   "pygments_lexer": "ipython3",
   "version": "3.8.3"
  }
 },
 "nbformat": 4,
 "nbformat_minor": 4
}
